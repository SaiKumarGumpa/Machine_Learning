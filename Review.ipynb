{
  "metadata": {
    "kernelspec": {
      "name": "python",
      "display_name": "Python (Pyodide)",
      "language": "python"
    },
    "language_info": {
      "codemirror_mode": {
        "name": "python",
        "version": 3
      },
      "file_extension": ".py",
      "mimetype": "text/x-python",
      "name": "python",
      "nbconvert_exporter": "python",
      "pygments_lexer": "ipython3",
      "version": "3.8"
    }
  },
  "nbformat_minor": 4,
  "nbformat": 4,
  "cells": [
    {
      "cell_type": "code",
      "source": "import pandas as pd\nimport numpy as np",
      "metadata": {
        "trusted": true
      },
      "outputs": [
        {
          "name": "stderr",
          "text": "<ipython-input-1-baf368f80de7>:1: DeprecationWarning: \nPyarrow will become a required dependency of pandas in the next major release of pandas (pandas 3.0),\n(to allow more performant data types, such as the Arrow string type, and better interoperability with other libraries)\nbut was not found to be installed on your system.\nIf this would cause problems for you,\nplease provide us feedback at https://github.com/pandas-dev/pandas/issues/54466\n        \n  import pandas as pd\n",
          "output_type": "stream"
        }
      ],
      "execution_count": 1
    },
    {
      "cell_type": "code",
      "source": "data = pd.read_csv(\"reviews.csv\")\ndf = pd.DataFrame(data)\ndf",
      "metadata": {
        "trusted": true
      },
      "outputs": [
        {
          "execution_count": 2,
          "output_type": "execute_result",
          "data": {
            "text/plain": "   ReviewID  ProductID  CustomerID  Rating\n0       301      201.0           1     5.0\n1       302      202.0           3     4.0\n2       303      203.0           2     3.0\n3       304      204.0           5     NaN\n4       305        NaN           4     5.0",
            "text/html": "<div>\n<style scoped>\n    .dataframe tbody tr th:only-of-type {\n        vertical-align: middle;\n    }\n\n    .dataframe tbody tr th {\n        vertical-align: top;\n    }\n\n    .dataframe thead th {\n        text-align: right;\n    }\n</style>\n<table border=\"1\" class=\"dataframe\">\n  <thead>\n    <tr style=\"text-align: right;\">\n      <th></th>\n      <th>ReviewID</th>\n      <th>ProductID</th>\n      <th>CustomerID</th>\n      <th>Rating</th>\n    </tr>\n  </thead>\n  <tbody>\n    <tr>\n      <th>0</th>\n      <td>301</td>\n      <td>201.0</td>\n      <td>1</td>\n      <td>5.0</td>\n    </tr>\n    <tr>\n      <th>1</th>\n      <td>302</td>\n      <td>202.0</td>\n      <td>3</td>\n      <td>4.0</td>\n    </tr>\n    <tr>\n      <th>2</th>\n      <td>303</td>\n      <td>203.0</td>\n      <td>2</td>\n      <td>3.0</td>\n    </tr>\n    <tr>\n      <th>3</th>\n      <td>304</td>\n      <td>204.0</td>\n      <td>5</td>\n      <td>NaN</td>\n    </tr>\n    <tr>\n      <th>4</th>\n      <td>305</td>\n      <td>NaN</td>\n      <td>4</td>\n      <td>5.0</td>\n    </tr>\n  </tbody>\n</table>\n</div>"
          },
          "metadata": {}
        }
      ],
      "execution_count": 2
    },
    {
      "cell_type": "code",
      "source": "df.head()",
      "metadata": {
        "trusted": true
      },
      "outputs": [
        {
          "execution_count": 3,
          "output_type": "execute_result",
          "data": {
            "text/plain": "   ReviewID  ProductID  CustomerID  Rating\n0       301      201.0           1     5.0\n1       302      202.0           3     4.0\n2       303      203.0           2     3.0\n3       304      204.0           5     NaN\n4       305        NaN           4     5.0",
            "text/html": "<div>\n<style scoped>\n    .dataframe tbody tr th:only-of-type {\n        vertical-align: middle;\n    }\n\n    .dataframe tbody tr th {\n        vertical-align: top;\n    }\n\n    .dataframe thead th {\n        text-align: right;\n    }\n</style>\n<table border=\"1\" class=\"dataframe\">\n  <thead>\n    <tr style=\"text-align: right;\">\n      <th></th>\n      <th>ReviewID</th>\n      <th>ProductID</th>\n      <th>CustomerID</th>\n      <th>Rating</th>\n    </tr>\n  </thead>\n  <tbody>\n    <tr>\n      <th>0</th>\n      <td>301</td>\n      <td>201.0</td>\n      <td>1</td>\n      <td>5.0</td>\n    </tr>\n    <tr>\n      <th>1</th>\n      <td>302</td>\n      <td>202.0</td>\n      <td>3</td>\n      <td>4.0</td>\n    </tr>\n    <tr>\n      <th>2</th>\n      <td>303</td>\n      <td>203.0</td>\n      <td>2</td>\n      <td>3.0</td>\n    </tr>\n    <tr>\n      <th>3</th>\n      <td>304</td>\n      <td>204.0</td>\n      <td>5</td>\n      <td>NaN</td>\n    </tr>\n    <tr>\n      <th>4</th>\n      <td>305</td>\n      <td>NaN</td>\n      <td>4</td>\n      <td>5.0</td>\n    </tr>\n  </tbody>\n</table>\n</div>"
          },
          "metadata": {}
        }
      ],
      "execution_count": 3
    },
    {
      "cell_type": "code",
      "source": "df.info()",
      "metadata": {
        "trusted": true
      },
      "outputs": [
        {
          "name": "stdout",
          "text": "<class 'pandas.core.frame.DataFrame'>\nRangeIndex: 5 entries, 0 to 4\nData columns (total 4 columns):\n #   Column      Non-Null Count  Dtype  \n---  ------      --------------  -----  \n 0   ReviewID    5 non-null      int64  \n 1   ProductID   4 non-null      float64\n 2   CustomerID  5 non-null      int64  \n 3   Rating      4 non-null      float64\ndtypes: float64(2), int64(2)\nmemory usage: 232.0 bytes\n",
          "output_type": "stream"
        }
      ],
      "execution_count": 4
    },
    {
      "cell_type": "code",
      "source": "df.describe()",
      "metadata": {
        "trusted": true
      },
      "outputs": [
        {
          "execution_count": 5,
          "output_type": "execute_result",
          "data": {
            "text/plain": "         ReviewID   ProductID  CustomerID    Rating\ncount    5.000000    4.000000    5.000000  4.000000\nmean   303.000000  202.500000    3.000000  4.250000\nstd      1.581139    1.290994    1.581139  0.957427\nmin    301.000000  201.000000    1.000000  3.000000\n25%    302.000000  201.750000    2.000000  3.750000\n50%    303.000000  202.500000    3.000000  4.500000\n75%    304.000000  203.250000    4.000000  5.000000\nmax    305.000000  204.000000    5.000000  5.000000",
            "text/html": "<div>\n<style scoped>\n    .dataframe tbody tr th:only-of-type {\n        vertical-align: middle;\n    }\n\n    .dataframe tbody tr th {\n        vertical-align: top;\n    }\n\n    .dataframe thead th {\n        text-align: right;\n    }\n</style>\n<table border=\"1\" class=\"dataframe\">\n  <thead>\n    <tr style=\"text-align: right;\">\n      <th></th>\n      <th>ReviewID</th>\n      <th>ProductID</th>\n      <th>CustomerID</th>\n      <th>Rating</th>\n    </tr>\n  </thead>\n  <tbody>\n    <tr>\n      <th>count</th>\n      <td>5.000000</td>\n      <td>4.000000</td>\n      <td>5.000000</td>\n      <td>4.000000</td>\n    </tr>\n    <tr>\n      <th>mean</th>\n      <td>303.000000</td>\n      <td>202.500000</td>\n      <td>3.000000</td>\n      <td>4.250000</td>\n    </tr>\n    <tr>\n      <th>std</th>\n      <td>1.581139</td>\n      <td>1.290994</td>\n      <td>1.581139</td>\n      <td>0.957427</td>\n    </tr>\n    <tr>\n      <th>min</th>\n      <td>301.000000</td>\n      <td>201.000000</td>\n      <td>1.000000</td>\n      <td>3.000000</td>\n    </tr>\n    <tr>\n      <th>25%</th>\n      <td>302.000000</td>\n      <td>201.750000</td>\n      <td>2.000000</td>\n      <td>3.750000</td>\n    </tr>\n    <tr>\n      <th>50%</th>\n      <td>303.000000</td>\n      <td>202.500000</td>\n      <td>3.000000</td>\n      <td>4.500000</td>\n    </tr>\n    <tr>\n      <th>75%</th>\n      <td>304.000000</td>\n      <td>203.250000</td>\n      <td>4.000000</td>\n      <td>5.000000</td>\n    </tr>\n    <tr>\n      <th>max</th>\n      <td>305.000000</td>\n      <td>204.000000</td>\n      <td>5.000000</td>\n      <td>5.000000</td>\n    </tr>\n  </tbody>\n</table>\n</div>"
          },
          "metadata": {}
        }
      ],
      "execution_count": 5
    },
    {
      "cell_type": "code",
      "source": "np.shape(df)",
      "metadata": {
        "trusted": true
      },
      "outputs": [
        {
          "execution_count": 6,
          "output_type": "execute_result",
          "data": {
            "text/plain": "(5, 4)"
          },
          "metadata": {}
        }
      ],
      "execution_count": 6
    },
    {
      "cell_type": "code",
      "source": "df['Rating'].fillna(df['Rating'].mean(), inplace=True)\ndf",
      "metadata": {
        "trusted": true
      },
      "outputs": [
        {
          "name": "stderr",
          "text": "<ipython-input-7-c56de4cd7851>:1: FutureWarning: A value is trying to be set on a copy of a DataFrame or Series through chained assignment using an inplace method.\nThe behavior will change in pandas 3.0. This inplace method will never work because the intermediate object on which we are setting values always behaves as a copy.\n\nFor example, when doing 'df[col].method(value, inplace=True)', try using 'df.method({col: value}, inplace=True)' or df[col] = df[col].method(value) instead, to perform the operation inplace on the original object.\n\n\n  df['Rating'].fillna(df['Rating'].mean(), inplace=True)\n",
          "output_type": "stream"
        },
        {
          "execution_count": 7,
          "output_type": "execute_result",
          "data": {
            "text/plain": "   ReviewID  ProductID  CustomerID  Rating\n0       301      201.0           1    5.00\n1       302      202.0           3    4.00\n2       303      203.0           2    3.00\n3       304      204.0           5    4.25\n4       305        NaN           4    5.00",
            "text/html": "<div>\n<style scoped>\n    .dataframe tbody tr th:only-of-type {\n        vertical-align: middle;\n    }\n\n    .dataframe tbody tr th {\n        vertical-align: top;\n    }\n\n    .dataframe thead th {\n        text-align: right;\n    }\n</style>\n<table border=\"1\" class=\"dataframe\">\n  <thead>\n    <tr style=\"text-align: right;\">\n      <th></th>\n      <th>ReviewID</th>\n      <th>ProductID</th>\n      <th>CustomerID</th>\n      <th>Rating</th>\n    </tr>\n  </thead>\n  <tbody>\n    <tr>\n      <th>0</th>\n      <td>301</td>\n      <td>201.0</td>\n      <td>1</td>\n      <td>5.00</td>\n    </tr>\n    <tr>\n      <th>1</th>\n      <td>302</td>\n      <td>202.0</td>\n      <td>3</td>\n      <td>4.00</td>\n    </tr>\n    <tr>\n      <th>2</th>\n      <td>303</td>\n      <td>203.0</td>\n      <td>2</td>\n      <td>3.00</td>\n    </tr>\n    <tr>\n      <th>3</th>\n      <td>304</td>\n      <td>204.0</td>\n      <td>5</td>\n      <td>4.25</td>\n    </tr>\n    <tr>\n      <th>4</th>\n      <td>305</td>\n      <td>NaN</td>\n      <td>4</td>\n      <td>5.00</td>\n    </tr>\n  </tbody>\n</table>\n</div>"
          },
          "metadata": {}
        }
      ],
      "execution_count": 7
    },
    {
      "cell_type": "code",
      "source": "df[\"ProductID\"] = df[\"ProductID\"].interpolate()",
      "metadata": {
        "trusted": true
      },
      "outputs": [],
      "execution_count": 8
    },
    {
      "cell_type": "code",
      "source": "np.median(df['Rating'])\n",
      "metadata": {
        "trusted": true
      },
      "outputs": [
        {
          "execution_count": 9,
          "output_type": "execute_result",
          "data": {
            "text/plain": "4.25"
          },
          "metadata": {}
        }
      ],
      "execution_count": 9
    },
    {
      "cell_type": "code",
      "source": "np.mean(df['Rating'])",
      "metadata": {
        "trusted": true
      },
      "outputs": [
        {
          "execution_count": 10,
          "output_type": "execute_result",
          "data": {
            "text/plain": "4.25"
          },
          "metadata": {}
        }
      ],
      "execution_count": 10
    },
    {
      "cell_type": "code",
      "source": "df['Rating'].min(), df['Rating'].max()\n",
      "metadata": {
        "trusted": true
      },
      "outputs": [
        {
          "execution_count": 11,
          "output_type": "execute_result",
          "data": {
            "text/plain": "(3.0, 5.0)"
          },
          "metadata": {}
        }
      ],
      "execution_count": 11
    },
    {
      "cell_type": "code",
      "source": "df['Rating'].std()\n",
      "metadata": {
        "trusted": true
      },
      "outputs": [
        {
          "execution_count": 12,
          "output_type": "execute_result",
          "data": {
            "text/plain": "0.82915619758885"
          },
          "metadata": {}
        }
      ],
      "execution_count": 12
    },
    {
      "cell_type": "code",
      "source": "df['Rating'].mean()\n",
      "metadata": {
        "trusted": true
      },
      "outputs": [
        {
          "execution_count": 13,
          "output_type": "execute_result",
          "data": {
            "text/plain": "4.25"
          },
          "metadata": {}
        }
      ],
      "execution_count": 13
    },
    {
      "cell_type": "code",
      "source": "# Ratings greater than 4\ndf[df['Rating'] > 4]\n",
      "metadata": {
        "trusted": true
      },
      "outputs": [
        {
          "execution_count": 14,
          "output_type": "execute_result",
          "data": {
            "text/plain": "   ReviewID  ProductID  CustomerID  Rating\n0       301      201.0           1    5.00\n3       304      204.0           5    4.25\n4       305      204.0           4    5.00",
            "text/html": "<div>\n<style scoped>\n    .dataframe tbody tr th:only-of-type {\n        vertical-align: middle;\n    }\n\n    .dataframe tbody tr th {\n        vertical-align: top;\n    }\n\n    .dataframe thead th {\n        text-align: right;\n    }\n</style>\n<table border=\"1\" class=\"dataframe\">\n  <thead>\n    <tr style=\"text-align: right;\">\n      <th></th>\n      <th>ReviewID</th>\n      <th>ProductID</th>\n      <th>CustomerID</th>\n      <th>Rating</th>\n    </tr>\n  </thead>\n  <tbody>\n    <tr>\n      <th>0</th>\n      <td>301</td>\n      <td>201.0</td>\n      <td>1</td>\n      <td>5.00</td>\n    </tr>\n    <tr>\n      <th>3</th>\n      <td>304</td>\n      <td>204.0</td>\n      <td>5</td>\n      <td>4.25</td>\n    </tr>\n    <tr>\n      <th>4</th>\n      <td>305</td>\n      <td>204.0</td>\n      <td>4</td>\n      <td>5.00</td>\n    </tr>\n  </tbody>\n</table>\n</div>"
          },
          "metadata": {}
        }
      ],
      "execution_count": 14
    },
    {
      "cell_type": "code",
      "source": "np.where(df['Rating'] > 4)\n",
      "metadata": {
        "trusted": true
      },
      "outputs": [
        {
          "execution_count": 15,
          "output_type": "execute_result",
          "data": {
            "text/plain": "(array([0, 3, 4], dtype=int32),)"
          },
          "metadata": {}
        }
      ],
      "execution_count": 15
    },
    {
      "cell_type": "code",
      "source": "df.sort_values('Rating', ascending=False)\n",
      "metadata": {
        "trusted": true
      },
      "outputs": [
        {
          "execution_count": 16,
          "output_type": "execute_result",
          "data": {
            "text/plain": "   ReviewID  ProductID  CustomerID  Rating\n0       301      201.0           1    5.00\n4       305      204.0           4    5.00\n3       304      204.0           5    4.25\n1       302      202.0           3    4.00\n2       303      203.0           2    3.00",
            "text/html": "<div>\n<style scoped>\n    .dataframe tbody tr th:only-of-type {\n        vertical-align: middle;\n    }\n\n    .dataframe tbody tr th {\n        vertical-align: top;\n    }\n\n    .dataframe thead th {\n        text-align: right;\n    }\n</style>\n<table border=\"1\" class=\"dataframe\">\n  <thead>\n    <tr style=\"text-align: right;\">\n      <th></th>\n      <th>ReviewID</th>\n      <th>ProductID</th>\n      <th>CustomerID</th>\n      <th>Rating</th>\n    </tr>\n  </thead>\n  <tbody>\n    <tr>\n      <th>0</th>\n      <td>301</td>\n      <td>201.0</td>\n      <td>1</td>\n      <td>5.00</td>\n    </tr>\n    <tr>\n      <th>4</th>\n      <td>305</td>\n      <td>204.0</td>\n      <td>4</td>\n      <td>5.00</td>\n    </tr>\n    <tr>\n      <th>3</th>\n      <td>304</td>\n      <td>204.0</td>\n      <td>5</td>\n      <td>4.25</td>\n    </tr>\n    <tr>\n      <th>1</th>\n      <td>302</td>\n      <td>202.0</td>\n      <td>3</td>\n      <td>4.00</td>\n    </tr>\n    <tr>\n      <th>2</th>\n      <td>303</td>\n      <td>203.0</td>\n      <td>2</td>\n      <td>3.00</td>\n    </tr>\n  </tbody>\n</table>\n</div>"
          },
          "metadata": {}
        }
      ],
      "execution_count": 16
    },
    {
      "cell_type": "code",
      "source": "np.argsort(df['Rating'])[::-1]\n",
      "metadata": {
        "trusted": true
      },
      "outputs": [
        {
          "execution_count": 17,
          "output_type": "execute_result",
          "data": {
            "text/plain": "4    4\n3    0\n2    3\n1    1\n0    2\nName: Rating, dtype: int32"
          },
          "metadata": {}
        }
      ],
      "execution_count": 17
    },
    {
      "cell_type": "code",
      "source": "df['Rating'].agg(['sum', 'mean', 'min', 'max'])\n",
      "metadata": {
        "trusted": true
      },
      "outputs": [
        {
          "execution_count": 18,
          "output_type": "execute_result",
          "data": {
            "text/plain": "sum     21.25\nmean     4.25\nmin      3.00\nmax      5.00\nName: Rating, dtype: float64"
          },
          "metadata": {}
        }
      ],
      "execution_count": 18
    },
    {
      "cell_type": "code",
      "source": "df.pivot_table(values='Rating', index='ProductID', aggfunc='mean')\n",
      "metadata": {
        "trusted": true
      },
      "outputs": [
        {
          "execution_count": 19,
          "output_type": "execute_result",
          "data": {
            "text/plain": "           Rating\nProductID        \n201.0       5.000\n202.0       4.000\n203.0       3.000\n204.0       4.625",
            "text/html": "<div>\n<style scoped>\n    .dataframe tbody tr th:only-of-type {\n        vertical-align: middle;\n    }\n\n    .dataframe tbody tr th {\n        vertical-align: top;\n    }\n\n    .dataframe thead th {\n        text-align: right;\n    }\n</style>\n<table border=\"1\" class=\"dataframe\">\n  <thead>\n    <tr style=\"text-align: right;\">\n      <th></th>\n      <th>Rating</th>\n    </tr>\n    <tr>\n      <th>ProductID</th>\n      <th></th>\n    </tr>\n  </thead>\n  <tbody>\n    <tr>\n      <th>201.0</th>\n      <td>5.000</td>\n    </tr>\n    <tr>\n      <th>202.0</th>\n      <td>4.000</td>\n    </tr>\n    <tr>\n      <th>203.0</th>\n      <td>3.000</td>\n    </tr>\n    <tr>\n      <th>204.0</th>\n      <td>4.625</td>\n    </tr>\n  </tbody>\n</table>\n</div>"
          },
          "metadata": {}
        }
      ],
      "execution_count": 19
    },
    {
      "cell_type": "code",
      "source": "df2 = pd.DataFrame({'ProductID': [201, 202, 203], 'ProductName': ['Laptop', 'Smartphone', 'Tablet']})\nmerged_df = pd.merge(df, df2, on='ProductID')\nmerged_df",
      "metadata": {
        "trusted": true
      },
      "outputs": [
        {
          "execution_count": 20,
          "output_type": "execute_result",
          "data": {
            "text/plain": "   ReviewID  ProductID  CustomerID  Rating ProductName\n0       301      201.0           1     5.0      Laptop\n1       302      202.0           3     4.0  Smartphone\n2       303      203.0           2     3.0      Tablet",
            "text/html": "<div>\n<style scoped>\n    .dataframe tbody tr th:only-of-type {\n        vertical-align: middle;\n    }\n\n    .dataframe tbody tr th {\n        vertical-align: top;\n    }\n\n    .dataframe thead th {\n        text-align: right;\n    }\n</style>\n<table border=\"1\" class=\"dataframe\">\n  <thead>\n    <tr style=\"text-align: right;\">\n      <th></th>\n      <th>ReviewID</th>\n      <th>ProductID</th>\n      <th>CustomerID</th>\n      <th>Rating</th>\n      <th>ProductName</th>\n    </tr>\n  </thead>\n  <tbody>\n    <tr>\n      <th>0</th>\n      <td>301</td>\n      <td>201.0</td>\n      <td>1</td>\n      <td>5.0</td>\n      <td>Laptop</td>\n    </tr>\n    <tr>\n      <th>1</th>\n      <td>302</td>\n      <td>202.0</td>\n      <td>3</td>\n      <td>4.0</td>\n      <td>Smartphone</td>\n    </tr>\n    <tr>\n      <th>2</th>\n      <td>303</td>\n      <td>203.0</td>\n      <td>2</td>\n      <td>3.0</td>\n      <td>Tablet</td>\n    </tr>\n  </tbody>\n</table>\n</div>"
          },
          "metadata": {}
        }
      ],
      "execution_count": 20
    },
    {
      "cell_type": "code",
      "source": "np.concatenate([df['Rating'].values, df['CustomerID'].values])\n",
      "metadata": {
        "trusted": true
      },
      "outputs": [
        {
          "execution_count": 21,
          "output_type": "execute_result",
          "data": {
            "text/plain": "array([5.  , 4.  , 3.  , 4.25, 5.  , 1.  , 3.  , 2.  , 5.  , 4.  ])"
          },
          "metadata": {}
        }
      ],
      "execution_count": 21
    },
    {
      "cell_type": "code",
      "source": "df['Adjusted_Rating'] = df['Rating'] + 1  # For example, adding 1 to each rating\ndf",
      "metadata": {
        "trusted": true
      },
      "outputs": [
        {
          "execution_count": 22,
          "output_type": "execute_result",
          "data": {
            "text/plain": "   ReviewID  ProductID  CustomerID  Rating  Adjusted_Rating\n0       301      201.0           1    5.00             6.00\n1       302      202.0           3    4.00             5.00\n2       303      203.0           2    3.00             4.00\n3       304      204.0           5    4.25             5.25\n4       305      204.0           4    5.00             6.00",
            "text/html": "<div>\n<style scoped>\n    .dataframe tbody tr th:only-of-type {\n        vertical-align: middle;\n    }\n\n    .dataframe tbody tr th {\n        vertical-align: top;\n    }\n\n    .dataframe thead th {\n        text-align: right;\n    }\n</style>\n<table border=\"1\" class=\"dataframe\">\n  <thead>\n    <tr style=\"text-align: right;\">\n      <th></th>\n      <th>ReviewID</th>\n      <th>ProductID</th>\n      <th>CustomerID</th>\n      <th>Rating</th>\n      <th>Adjusted_Rating</th>\n    </tr>\n  </thead>\n  <tbody>\n    <tr>\n      <th>0</th>\n      <td>301</td>\n      <td>201.0</td>\n      <td>1</td>\n      <td>5.00</td>\n      <td>6.00</td>\n    </tr>\n    <tr>\n      <th>1</th>\n      <td>302</td>\n      <td>202.0</td>\n      <td>3</td>\n      <td>4.00</td>\n      <td>5.00</td>\n    </tr>\n    <tr>\n      <th>2</th>\n      <td>303</td>\n      <td>203.0</td>\n      <td>2</td>\n      <td>3.00</td>\n      <td>4.00</td>\n    </tr>\n    <tr>\n      <th>3</th>\n      <td>304</td>\n      <td>204.0</td>\n      <td>5</td>\n      <td>4.25</td>\n      <td>5.25</td>\n    </tr>\n    <tr>\n      <th>4</th>\n      <td>305</td>\n      <td>204.0</td>\n      <td>4</td>\n      <td>5.00</td>\n      <td>6.00</td>\n    </tr>\n  </tbody>\n</table>\n</div>"
          },
          "metadata": {}
        }
      ],
      "execution_count": 22
    },
    {
      "cell_type": "code",
      "source": "df['Double_Rating'] = df['Rating'].apply(lambda x: x * 2)\ndf",
      "metadata": {
        "trusted": true
      },
      "outputs": [
        {
          "execution_count": 23,
          "output_type": "execute_result",
          "data": {
            "text/plain": "   ReviewID  ProductID  CustomerID  Rating  Adjusted_Rating  Double_Rating\n0       301      201.0           1    5.00             6.00           10.0\n1       302      202.0           3    4.00             5.00            8.0\n2       303      203.0           2    3.00             4.00            6.0\n3       304      204.0           5    4.25             5.25            8.5\n4       305      204.0           4    5.00             6.00           10.0",
            "text/html": "<div>\n<style scoped>\n    .dataframe tbody tr th:only-of-type {\n        vertical-align: middle;\n    }\n\n    .dataframe tbody tr th {\n        vertical-align: top;\n    }\n\n    .dataframe thead th {\n        text-align: right;\n    }\n</style>\n<table border=\"1\" class=\"dataframe\">\n  <thead>\n    <tr style=\"text-align: right;\">\n      <th></th>\n      <th>ReviewID</th>\n      <th>ProductID</th>\n      <th>CustomerID</th>\n      <th>Rating</th>\n      <th>Adjusted_Rating</th>\n      <th>Double_Rating</th>\n    </tr>\n  </thead>\n  <tbody>\n    <tr>\n      <th>0</th>\n      <td>301</td>\n      <td>201.0</td>\n      <td>1</td>\n      <td>5.00</td>\n      <td>6.00</td>\n      <td>10.0</td>\n    </tr>\n    <tr>\n      <th>1</th>\n      <td>302</td>\n      <td>202.0</td>\n      <td>3</td>\n      <td>4.00</td>\n      <td>5.00</td>\n      <td>8.0</td>\n    </tr>\n    <tr>\n      <th>2</th>\n      <td>303</td>\n      <td>203.0</td>\n      <td>2</td>\n      <td>3.00</td>\n      <td>4.00</td>\n      <td>6.0</td>\n    </tr>\n    <tr>\n      <th>3</th>\n      <td>304</td>\n      <td>204.0</td>\n      <td>5</td>\n      <td>4.25</td>\n      <td>5.25</td>\n      <td>8.5</td>\n    </tr>\n    <tr>\n      <th>4</th>\n      <td>305</td>\n      <td>204.0</td>\n      <td>4</td>\n      <td>5.00</td>\n      <td>6.00</td>\n      <td>10.0</td>\n    </tr>\n  </tbody>\n</table>\n</div>"
          },
          "metadata": {}
        }
      ],
      "execution_count": 23
    },
    {
      "cell_type": "code",
      "source": "df['Rating'].value_counts()\n",
      "metadata": {
        "trusted": true
      },
      "outputs": [
        {
          "execution_count": 24,
          "output_type": "execute_result",
          "data": {
            "text/plain": "Rating\n5.00    2\n4.00    1\n3.00    1\n4.25    1\nName: count, dtype: int64"
          },
          "metadata": {}
        }
      ],
      "execution_count": 24
    },
    {
      "cell_type": "code",
      "source": "np.histogram(df['Rating'], bins=5)\n",
      "metadata": {
        "trusted": true
      },
      "outputs": [
        {
          "execution_count": 25,
          "output_type": "execute_result",
          "data": {
            "text/plain": "(array([1, 0, 1, 1, 2], dtype=int32), array([3. , 3.4, 3.8, 4.2, 4.6, 5. ]))"
          },
          "metadata": {}
        }
      ],
      "execution_count": 25
    },
    {
      "cell_type": "code",
      "source": "",
      "metadata": {
        "trusted": true
      },
      "outputs": [],
      "execution_count": null
    }
  ]
}