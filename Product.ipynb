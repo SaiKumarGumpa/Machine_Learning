{
  "metadata": {
    "kernelspec": {
      "name": "python",
      "display_name": "Python (Pyodide)",
      "language": "python"
    },
    "language_info": {
      "codemirror_mode": {
        "name": "python",
        "version": 3
      },
      "file_extension": ".py",
      "mimetype": "text/x-python",
      "name": "python",
      "nbconvert_exporter": "python",
      "pygments_lexer": "ipython3",
      "version": "3.8"
    }
  },
  "nbformat_minor": 4,
  "nbformat": 4,
  "cells": [
    {
      "cell_type": "code",
      "source": "import pandas as pd\nimport numpy as np\n",
      "metadata": {
        "trusted": true
      },
      "outputs": [
        {
          "name": "stderr",
          "text": "<ipython-input-1-baf368f80de7>:1: DeprecationWarning: \nPyarrow will become a required dependency of pandas in the next major release of pandas (pandas 3.0),\n(to allow more performant data types, such as the Arrow string type, and better interoperability with other libraries)\nbut was not found to be installed on your system.\nIf this would cause problems for you,\nplease provide us feedback at https://github.com/pandas-dev/pandas/issues/54466\n        \n  import pandas as pd\n",
          "output_type": "stream"
        }
      ],
      "execution_count": 1
    },
    {
      "cell_type": "code",
      "source": "data = pd.read_csv(\"products.csv\")\ndf = pd.DataFrame(data)\ndf",
      "metadata": {
        "trusted": true
      },
      "outputs": [
        {
          "execution_count": 2,
          "output_type": "execute_result",
          "data": {
            "text/plain": "   ProductID ProductName     Category   Price\n0        201      Laptop  Electronics  1200.0\n1        202  Smartphone  Electronics   800.0\n2        203      Tablet  Electronics   400.0\n3        204     Monitor  Accessories   200.0\n4        205    Keyboard  Accessories     NaN",
            "text/html": "<div>\n<style scoped>\n    .dataframe tbody tr th:only-of-type {\n        vertical-align: middle;\n    }\n\n    .dataframe tbody tr th {\n        vertical-align: top;\n    }\n\n    .dataframe thead th {\n        text-align: right;\n    }\n</style>\n<table border=\"1\" class=\"dataframe\">\n  <thead>\n    <tr style=\"text-align: right;\">\n      <th></th>\n      <th>ProductID</th>\n      <th>ProductName</th>\n      <th>Category</th>\n      <th>Price</th>\n    </tr>\n  </thead>\n  <tbody>\n    <tr>\n      <th>0</th>\n      <td>201</td>\n      <td>Laptop</td>\n      <td>Electronics</td>\n      <td>1200.0</td>\n    </tr>\n    <tr>\n      <th>1</th>\n      <td>202</td>\n      <td>Smartphone</td>\n      <td>Electronics</td>\n      <td>800.0</td>\n    </tr>\n    <tr>\n      <th>2</th>\n      <td>203</td>\n      <td>Tablet</td>\n      <td>Electronics</td>\n      <td>400.0</td>\n    </tr>\n    <tr>\n      <th>3</th>\n      <td>204</td>\n      <td>Monitor</td>\n      <td>Accessories</td>\n      <td>200.0</td>\n    </tr>\n    <tr>\n      <th>4</th>\n      <td>205</td>\n      <td>Keyboard</td>\n      <td>Accessories</td>\n      <td>NaN</td>\n    </tr>\n  </tbody>\n</table>\n</div>"
          },
          "metadata": {}
        }
      ],
      "execution_count": 2
    },
    {
      "cell_type": "code",
      "source": "df[\"Price\"] = df[\"Price\"].interpolate()\ndf",
      "metadata": {
        "trusted": true
      },
      "outputs": [
        {
          "execution_count": 3,
          "output_type": "execute_result",
          "data": {
            "text/plain": "   ProductID ProductName     Category   Price\n0        201      Laptop  Electronics  1200.0\n1        202  Smartphone  Electronics   800.0\n2        203      Tablet  Electronics   400.0\n3        204     Monitor  Accessories   200.0\n4        205    Keyboard  Accessories   200.0",
            "text/html": "<div>\n<style scoped>\n    .dataframe tbody tr th:only-of-type {\n        vertical-align: middle;\n    }\n\n    .dataframe tbody tr th {\n        vertical-align: top;\n    }\n\n    .dataframe thead th {\n        text-align: right;\n    }\n</style>\n<table border=\"1\" class=\"dataframe\">\n  <thead>\n    <tr style=\"text-align: right;\">\n      <th></th>\n      <th>ProductID</th>\n      <th>ProductName</th>\n      <th>Category</th>\n      <th>Price</th>\n    </tr>\n  </thead>\n  <tbody>\n    <tr>\n      <th>0</th>\n      <td>201</td>\n      <td>Laptop</td>\n      <td>Electronics</td>\n      <td>1200.0</td>\n    </tr>\n    <tr>\n      <th>1</th>\n      <td>202</td>\n      <td>Smartphone</td>\n      <td>Electronics</td>\n      <td>800.0</td>\n    </tr>\n    <tr>\n      <th>2</th>\n      <td>203</td>\n      <td>Tablet</td>\n      <td>Electronics</td>\n      <td>400.0</td>\n    </tr>\n    <tr>\n      <th>3</th>\n      <td>204</td>\n      <td>Monitor</td>\n      <td>Accessories</td>\n      <td>200.0</td>\n    </tr>\n    <tr>\n      <th>4</th>\n      <td>205</td>\n      <td>Keyboard</td>\n      <td>Accessories</td>\n      <td>200.0</td>\n    </tr>\n  </tbody>\n</table>\n</div>"
          },
          "metadata": {}
        }
      ],
      "execution_count": 3
    },
    {
      "cell_type": "code",
      "source": "df.head()",
      "metadata": {
        "trusted": true
      },
      "outputs": [
        {
          "execution_count": 4,
          "output_type": "execute_result",
          "data": {
            "text/plain": "   ProductID ProductName     Category   Price\n0        201      Laptop  Electronics  1200.0\n1        202  Smartphone  Electronics   800.0\n2        203      Tablet  Electronics   400.0\n3        204     Monitor  Accessories   200.0\n4        205    Keyboard  Accessories   200.0",
            "text/html": "<div>\n<style scoped>\n    .dataframe tbody tr th:only-of-type {\n        vertical-align: middle;\n    }\n\n    .dataframe tbody tr th {\n        vertical-align: top;\n    }\n\n    .dataframe thead th {\n        text-align: right;\n    }\n</style>\n<table border=\"1\" class=\"dataframe\">\n  <thead>\n    <tr style=\"text-align: right;\">\n      <th></th>\n      <th>ProductID</th>\n      <th>ProductName</th>\n      <th>Category</th>\n      <th>Price</th>\n    </tr>\n  </thead>\n  <tbody>\n    <tr>\n      <th>0</th>\n      <td>201</td>\n      <td>Laptop</td>\n      <td>Electronics</td>\n      <td>1200.0</td>\n    </tr>\n    <tr>\n      <th>1</th>\n      <td>202</td>\n      <td>Smartphone</td>\n      <td>Electronics</td>\n      <td>800.0</td>\n    </tr>\n    <tr>\n      <th>2</th>\n      <td>203</td>\n      <td>Tablet</td>\n      <td>Electronics</td>\n      <td>400.0</td>\n    </tr>\n    <tr>\n      <th>3</th>\n      <td>204</td>\n      <td>Monitor</td>\n      <td>Accessories</td>\n      <td>200.0</td>\n    </tr>\n    <tr>\n      <th>4</th>\n      <td>205</td>\n      <td>Keyboard</td>\n      <td>Accessories</td>\n      <td>200.0</td>\n    </tr>\n  </tbody>\n</table>\n</div>"
          },
          "metadata": {}
        }
      ],
      "execution_count": 4
    },
    {
      "cell_type": "code",
      "source": "df.info()",
      "metadata": {
        "trusted": true
      },
      "outputs": [
        {
          "name": "stdout",
          "text": "<class 'pandas.core.frame.DataFrame'>\nRangeIndex: 5 entries, 0 to 4\nData columns (total 4 columns):\n #   Column       Non-Null Count  Dtype  \n---  ------       --------------  -----  \n 0   ProductID    5 non-null      int64  \n 1   ProductName  5 non-null      object \n 2   Category     5 non-null      object \n 3   Price        5 non-null      float64\ndtypes: float64(1), int64(1), object(2)\nmemory usage: 192.0+ bytes\n",
          "output_type": "stream"
        }
      ],
      "execution_count": 5
    },
    {
      "cell_type": "code",
      "source": "df.describe()",
      "metadata": {
        "trusted": true
      },
      "outputs": [
        {
          "execution_count": 6,
          "output_type": "execute_result",
          "data": {
            "text/plain": "        ProductID        Price\ncount    5.000000     5.000000\nmean   203.000000   560.000000\nstd      1.581139   433.589668\nmin    201.000000   200.000000\n25%    202.000000   200.000000\n50%    203.000000   400.000000\n75%    204.000000   800.000000\nmax    205.000000  1200.000000",
            "text/html": "<div>\n<style scoped>\n    .dataframe tbody tr th:only-of-type {\n        vertical-align: middle;\n    }\n\n    .dataframe tbody tr th {\n        vertical-align: top;\n    }\n\n    .dataframe thead th {\n        text-align: right;\n    }\n</style>\n<table border=\"1\" class=\"dataframe\">\n  <thead>\n    <tr style=\"text-align: right;\">\n      <th></th>\n      <th>ProductID</th>\n      <th>Price</th>\n    </tr>\n  </thead>\n  <tbody>\n    <tr>\n      <th>count</th>\n      <td>5.000000</td>\n      <td>5.000000</td>\n    </tr>\n    <tr>\n      <th>mean</th>\n      <td>203.000000</td>\n      <td>560.000000</td>\n    </tr>\n    <tr>\n      <th>std</th>\n      <td>1.581139</td>\n      <td>433.589668</td>\n    </tr>\n    <tr>\n      <th>min</th>\n      <td>201.000000</td>\n      <td>200.000000</td>\n    </tr>\n    <tr>\n      <th>25%</th>\n      <td>202.000000</td>\n      <td>200.000000</td>\n    </tr>\n    <tr>\n      <th>50%</th>\n      <td>203.000000</td>\n      <td>400.000000</td>\n    </tr>\n    <tr>\n      <th>75%</th>\n      <td>204.000000</td>\n      <td>800.000000</td>\n    </tr>\n    <tr>\n      <th>max</th>\n      <td>205.000000</td>\n      <td>1200.000000</td>\n    </tr>\n  </tbody>\n</table>\n</div>"
          },
          "metadata": {}
        }
      ],
      "execution_count": 6
    },
    {
      "cell_type": "code",
      "source": "df.value_counts()",
      "metadata": {
        "trusted": true
      },
      "outputs": [
        {
          "execution_count": 7,
          "output_type": "execute_result",
          "data": {
            "text/plain": "ProductID  ProductName  Category     Price \n201        Laptop       Electronics  1200.0    1\n202        Smartphone   Electronics  800.0     1\n203        Tablet       Electronics  400.0     1\n204        Monitor      Accessories  200.0     1\n205        Keyboard     Accessories  200.0     1\nName: count, dtype: int64"
          },
          "metadata": {}
        }
      ],
      "execution_count": 7
    },
    {
      "cell_type": "code",
      "source": "df[\"Category\"].value_counts()",
      "metadata": {
        "trusted": true
      },
      "outputs": [
        {
          "execution_count": 8,
          "output_type": "execute_result",
          "data": {
            "text/plain": "Category\nElectronics    3\nAccessories    2\nName: count, dtype: int64"
          },
          "metadata": {}
        }
      ],
      "execution_count": 8
    },
    {
      "cell_type": "code",
      "source": "product_df = df[[\"ProductID\",\"Price\"]]",
      "metadata": {
        "trusted": true
      },
      "outputs": [],
      "execution_count": 9
    },
    {
      "cell_type": "code",
      "source": "product_df",
      "metadata": {
        "trusted": true
      },
      "outputs": [
        {
          "execution_count": 10,
          "output_type": "execute_result",
          "data": {
            "text/plain": "   ProductID   Price\n0        201  1200.0\n1        202   800.0\n2        203   400.0\n3        204   200.0\n4        205   200.0",
            "text/html": "<div>\n<style scoped>\n    .dataframe tbody tr th:only-of-type {\n        vertical-align: middle;\n    }\n\n    .dataframe tbody tr th {\n        vertical-align: top;\n    }\n\n    .dataframe thead th {\n        text-align: right;\n    }\n</style>\n<table border=\"1\" class=\"dataframe\">\n  <thead>\n    <tr style=\"text-align: right;\">\n      <th></th>\n      <th>ProductID</th>\n      <th>Price</th>\n    </tr>\n  </thead>\n  <tbody>\n    <tr>\n      <th>0</th>\n      <td>201</td>\n      <td>1200.0</td>\n    </tr>\n    <tr>\n      <th>1</th>\n      <td>202</td>\n      <td>800.0</td>\n    </tr>\n    <tr>\n      <th>2</th>\n      <td>203</td>\n      <td>400.0</td>\n    </tr>\n    <tr>\n      <th>3</th>\n      <td>204</td>\n      <td>200.0</td>\n    </tr>\n    <tr>\n      <th>4</th>\n      <td>205</td>\n      <td>200.0</td>\n    </tr>\n  </tbody>\n</table>\n</div>"
          },
          "metadata": {}
        }
      ],
      "execution_count": 10
    },
    {
      "cell_type": "code",
      "source": "arr = product_df.to_numpy()",
      "metadata": {
        "trusted": true
      },
      "outputs": [],
      "execution_count": 11
    },
    {
      "cell_type": "code",
      "source": "arr",
      "metadata": {
        "trusted": true
      },
      "outputs": [
        {
          "execution_count": 12,
          "output_type": "execute_result",
          "data": {
            "text/plain": "array([[ 201., 1200.],\n       [ 202.,  800.],\n       [ 203.,  400.],\n       [ 204.,  200.],\n       [ 205.,  200.]])"
          },
          "metadata": {}
        }
      ],
      "execution_count": 12
    },
    {
      "cell_type": "code",
      "source": "np.unique(df['Category'])",
      "metadata": {
        "trusted": true
      },
      "outputs": [
        {
          "execution_count": 13,
          "output_type": "execute_result",
          "data": {
            "text/plain": "array(['Accessories', 'Electronics'], dtype=object)"
          },
          "metadata": {}
        }
      ],
      "execution_count": 13
    },
    {
      "cell_type": "code",
      "source": "np.mean(df['Price'])",
      "metadata": {
        "trusted": true
      },
      "outputs": [
        {
          "execution_count": 14,
          "output_type": "execute_result",
          "data": {
            "text/plain": "560.0"
          },
          "metadata": {}
        }
      ],
      "execution_count": 14
    },
    {
      "cell_type": "code",
      "source": "np.std(df['Price'])",
      "metadata": {
        "trusted": true
      },
      "outputs": [
        {
          "execution_count": 15,
          "output_type": "execute_result",
          "data": {
            "text/plain": "387.8143885933063"
          },
          "metadata": {}
        }
      ],
      "execution_count": 15
    },
    {
      "cell_type": "code",
      "source": "np.min(df['Price']), np.max(df['Price'])",
      "metadata": {
        "trusted": true
      },
      "outputs": [
        {
          "execution_count": 16,
          "output_type": "execute_result",
          "data": {
            "text/plain": "(200.0, 1200.0)"
          },
          "metadata": {}
        }
      ],
      "execution_count": 16
    },
    {
      "cell_type": "code",
      "source": "df[df['Price'] > 500]",
      "metadata": {
        "trusted": true
      },
      "outputs": [
        {
          "execution_count": 17,
          "output_type": "execute_result",
          "data": {
            "text/plain": "   ProductID ProductName     Category   Price\n0        201      Laptop  Electronics  1200.0\n1        202  Smartphone  Electronics   800.0",
            "text/html": "<div>\n<style scoped>\n    .dataframe tbody tr th:only-of-type {\n        vertical-align: middle;\n    }\n\n    .dataframe tbody tr th {\n        vertical-align: top;\n    }\n\n    .dataframe thead th {\n        text-align: right;\n    }\n</style>\n<table border=\"1\" class=\"dataframe\">\n  <thead>\n    <tr style=\"text-align: right;\">\n      <th></th>\n      <th>ProductID</th>\n      <th>ProductName</th>\n      <th>Category</th>\n      <th>Price</th>\n    </tr>\n  </thead>\n  <tbody>\n    <tr>\n      <th>0</th>\n      <td>201</td>\n      <td>Laptop</td>\n      <td>Electronics</td>\n      <td>1200.0</td>\n    </tr>\n    <tr>\n      <th>1</th>\n      <td>202</td>\n      <td>Smartphone</td>\n      <td>Electronics</td>\n      <td>800.0</td>\n    </tr>\n  </tbody>\n</table>\n</div>"
          },
          "metadata": {}
        }
      ],
      "execution_count": 17
    },
    {
      "cell_type": "code",
      "source": "df.groupby('Category')['Price'].mean()",
      "metadata": {
        "trusted": true
      },
      "outputs": [
        {
          "execution_count": 18,
          "output_type": "execute_result",
          "data": {
            "text/plain": "Category\nAccessories    200.0\nElectronics    800.0\nName: Price, dtype: float64"
          },
          "metadata": {}
        }
      ],
      "execution_count": 18
    },
    {
      "cell_type": "code",
      "source": "df.sort_values('Price', ascending=False)\n",
      "metadata": {
        "trusted": true
      },
      "outputs": [
        {
          "execution_count": 19,
          "output_type": "execute_result",
          "data": {
            "text/plain": "   ProductID ProductName     Category   Price\n0        201      Laptop  Electronics  1200.0\n1        202  Smartphone  Electronics   800.0\n2        203      Tablet  Electronics   400.0\n3        204     Monitor  Accessories   200.0\n4        205    Keyboard  Accessories   200.0",
            "text/html": "<div>\n<style scoped>\n    .dataframe tbody tr th:only-of-type {\n        vertical-align: middle;\n    }\n\n    .dataframe tbody tr th {\n        vertical-align: top;\n    }\n\n    .dataframe thead th {\n        text-align: right;\n    }\n</style>\n<table border=\"1\" class=\"dataframe\">\n  <thead>\n    <tr style=\"text-align: right;\">\n      <th></th>\n      <th>ProductID</th>\n      <th>ProductName</th>\n      <th>Category</th>\n      <th>Price</th>\n    </tr>\n  </thead>\n  <tbody>\n    <tr>\n      <th>0</th>\n      <td>201</td>\n      <td>Laptop</td>\n      <td>Electronics</td>\n      <td>1200.0</td>\n    </tr>\n    <tr>\n      <th>1</th>\n      <td>202</td>\n      <td>Smartphone</td>\n      <td>Electronics</td>\n      <td>800.0</td>\n    </tr>\n    <tr>\n      <th>2</th>\n      <td>203</td>\n      <td>Tablet</td>\n      <td>Electronics</td>\n      <td>400.0</td>\n    </tr>\n    <tr>\n      <th>3</th>\n      <td>204</td>\n      <td>Monitor</td>\n      <td>Accessories</td>\n      <td>200.0</td>\n    </tr>\n    <tr>\n      <th>4</th>\n      <td>205</td>\n      <td>Keyboard</td>\n      <td>Accessories</td>\n      <td>200.0</td>\n    </tr>\n  </tbody>\n</table>\n</div>"
          },
          "metadata": {}
        }
      ],
      "execution_count": 19
    },
    {
      "cell_type": "code",
      "source": "np.argsort(df['Price'])[::-1]\n",
      "metadata": {
        "trusted": true
      },
      "outputs": [
        {
          "execution_count": 20,
          "output_type": "execute_result",
          "data": {
            "text/plain": "4    0\n3    1\n2    2\n1    4\n0    3\nName: Price, dtype: int32"
          },
          "metadata": {}
        }
      ],
      "execution_count": 20
    },
    {
      "cell_type": "code",
      "source": "df['Price'].agg(['sum', 'mean', 'min', 'max'])\n",
      "metadata": {
        "trusted": true
      },
      "outputs": [
        {
          "execution_count": 21,
          "output_type": "execute_result",
          "data": {
            "text/plain": "sum     2800.0\nmean     560.0\nmin      200.0\nmax     1200.0\nName: Price, dtype: float64"
          },
          "metadata": {}
        }
      ],
      "execution_count": 21
    },
    {
      "cell_type": "code",
      "source": "df.pivot_table(values='Price', index='Category', aggfunc='mean')\n",
      "metadata": {
        "trusted": true
      },
      "outputs": [
        {
          "execution_count": 22,
          "output_type": "execute_result",
          "data": {
            "text/plain": "             Price\nCategory          \nAccessories  200.0\nElectronics  800.0",
            "text/html": "<div>\n<style scoped>\n    .dataframe tbody tr th:only-of-type {\n        vertical-align: middle;\n    }\n\n    .dataframe tbody tr th {\n        vertical-align: top;\n    }\n\n    .dataframe thead th {\n        text-align: right;\n    }\n</style>\n<table border=\"1\" class=\"dataframe\">\n  <thead>\n    <tr style=\"text-align: right;\">\n      <th></th>\n      <th>Price</th>\n    </tr>\n    <tr>\n      <th>Category</th>\n      <th></th>\n    </tr>\n  </thead>\n  <tbody>\n    <tr>\n      <th>Accessories</th>\n      <td>200.0</td>\n    </tr>\n    <tr>\n      <th>Electronics</th>\n      <td>800.0</td>\n    </tr>\n  </tbody>\n</table>\n</div>"
          },
          "metadata": {}
        }
      ],
      "execution_count": 22
    },
    {
      "cell_type": "code",
      "source": "np.cumsum(df['Price'])\n",
      "metadata": {
        "trusted": true
      },
      "outputs": [
        {
          "execution_count": 23,
          "output_type": "execute_result",
          "data": {
            "text/plain": "0    1200.0\n1    2000.0\n2    2400.0\n3    2600.0\n4    2800.0\nName: Price, dtype: float64"
          },
          "metadata": {}
        }
      ],
      "execution_count": 23
    },
    {
      "cell_type": "code",
      "source": "np.isnan(df['Price'].values)\n",
      "metadata": {
        "trusted": true
      },
      "outputs": [
        {
          "execution_count": 24,
          "output_type": "execute_result",
          "data": {
            "text/plain": "array([False, False, False, False, False])"
          },
          "metadata": {}
        }
      ],
      "execution_count": 24
    },
    {
      "cell_type": "code",
      "source": "df['Discounted_Price'] = df['Price'] * 0.9\ndf",
      "metadata": {
        "trusted": true
      },
      "outputs": [
        {
          "execution_count": 25,
          "output_type": "execute_result",
          "data": {
            "text/plain": "   ProductID ProductName     Category   Price  Discounted_Price\n0        201      Laptop  Electronics  1200.0            1080.0\n1        202  Smartphone  Electronics   800.0             720.0\n2        203      Tablet  Electronics   400.0             360.0\n3        204     Monitor  Accessories   200.0             180.0\n4        205    Keyboard  Accessories   200.0             180.0",
            "text/html": "<div>\n<style scoped>\n    .dataframe tbody tr th:only-of-type {\n        vertical-align: middle;\n    }\n\n    .dataframe tbody tr th {\n        vertical-align: top;\n    }\n\n    .dataframe thead th {\n        text-align: right;\n    }\n</style>\n<table border=\"1\" class=\"dataframe\">\n  <thead>\n    <tr style=\"text-align: right;\">\n      <th></th>\n      <th>ProductID</th>\n      <th>ProductName</th>\n      <th>Category</th>\n      <th>Price</th>\n      <th>Discounted_Price</th>\n    </tr>\n  </thead>\n  <tbody>\n    <tr>\n      <th>0</th>\n      <td>201</td>\n      <td>Laptop</td>\n      <td>Electronics</td>\n      <td>1200.0</td>\n      <td>1080.0</td>\n    </tr>\n    <tr>\n      <th>1</th>\n      <td>202</td>\n      <td>Smartphone</td>\n      <td>Electronics</td>\n      <td>800.0</td>\n      <td>720.0</td>\n    </tr>\n    <tr>\n      <th>2</th>\n      <td>203</td>\n      <td>Tablet</td>\n      <td>Electronics</td>\n      <td>400.0</td>\n      <td>360.0</td>\n    </tr>\n    <tr>\n      <th>3</th>\n      <td>204</td>\n      <td>Monitor</td>\n      <td>Accessories</td>\n      <td>200.0</td>\n      <td>180.0</td>\n    </tr>\n    <tr>\n      <th>4</th>\n      <td>205</td>\n      <td>Keyboard</td>\n      <td>Accessories</td>\n      <td>200.0</td>\n      <td>180.0</td>\n    </tr>\n  </tbody>\n</table>\n</div>"
          },
          "metadata": {}
        }
      ],
      "execution_count": 25
    },
    {
      "cell_type": "code",
      "source": "\ndf2 = pd.DataFrame({'ProductID': [201, 202], 'Stock': [50, 30]})\nmerged_df = pd.merge(df, df2, on='ProductID')\nmerged_df\n",
      "metadata": {
        "trusted": true
      },
      "outputs": [
        {
          "execution_count": 26,
          "output_type": "execute_result",
          "data": {
            "text/plain": "   ProductID ProductName     Category   Price  Discounted_Price  Stock\n0        201      Laptop  Electronics  1200.0            1080.0     50\n1        202  Smartphone  Electronics   800.0             720.0     30",
            "text/html": "<div>\n<style scoped>\n    .dataframe tbody tr th:only-of-type {\n        vertical-align: middle;\n    }\n\n    .dataframe tbody tr th {\n        vertical-align: top;\n    }\n\n    .dataframe thead th {\n        text-align: right;\n    }\n</style>\n<table border=\"1\" class=\"dataframe\">\n  <thead>\n    <tr style=\"text-align: right;\">\n      <th></th>\n      <th>ProductID</th>\n      <th>ProductName</th>\n      <th>Category</th>\n      <th>Price</th>\n      <th>Discounted_Price</th>\n      <th>Stock</th>\n    </tr>\n  </thead>\n  <tbody>\n    <tr>\n      <th>0</th>\n      <td>201</td>\n      <td>Laptop</td>\n      <td>Electronics</td>\n      <td>1200.0</td>\n      <td>1080.0</td>\n      <td>50</td>\n    </tr>\n    <tr>\n      <th>1</th>\n      <td>202</td>\n      <td>Smartphone</td>\n      <td>Electronics</td>\n      <td>800.0</td>\n      <td>720.0</td>\n      <td>30</td>\n    </tr>\n  </tbody>\n</table>\n</div>"
          },
          "metadata": {}
        }
      ],
      "execution_count": 26
    },
    {
      "cell_type": "code",
      "source": "np.concatenate([df['Price'].values, df2['Stock'].values])\n",
      "metadata": {
        "trusted": true
      },
      "outputs": [
        {
          "execution_count": 27,
          "output_type": "execute_result",
          "data": {
            "text/plain": "array([1200.,  800.,  400.,  200.,  200.,   50.,   30.])"
          },
          "metadata": {}
        }
      ],
      "execution_count": 27
    }
  ]
}