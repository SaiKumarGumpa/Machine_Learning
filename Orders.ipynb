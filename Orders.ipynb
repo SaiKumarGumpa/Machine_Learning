{
  "metadata": {
    "kernelspec": {
      "name": "python",
      "display_name": "Python (Pyodide)",
      "language": "python"
    },
    "language_info": {
      "codemirror_mode": {
        "name": "python",
        "version": 3
      },
      "file_extension": ".py",
      "mimetype": "text/x-python",
      "name": "python",
      "nbconvert_exporter": "python",
      "pygments_lexer": "ipython3",
      "version": "3.8"
    }
  },
  "nbformat_minor": 4,
  "nbformat": 4,
  "cells": [
    {
      "cell_type": "code",
      "source": "#Importing packages\nimport pandas as pd\nimport numpy as np",
      "metadata": {
        "trusted": true
      },
      "outputs": [
        {
          "name": "stderr",
          "text": "<ipython-input-1-75f9e765d065>:2: DeprecationWarning: \nPyarrow will become a required dependency of pandas in the next major release of pandas (pandas 3.0),\n(to allow more performant data types, such as the Arrow string type, and better interoperability with other libraries)\nbut was not found to be installed on your system.\nIf this would cause problems for you,\nplease provide us feedback at https://github.com/pandas-dev/pandas/issues/54466\n        \n  import pandas as pd\n",
          "output_type": "stream"
        }
      ],
      "execution_count": 1
    },
    {
      "cell_type": "code",
      "source": "data = pd.read_csv(\"orders.csv\")\ndf = pd.DataFrame(data)\ndf",
      "metadata": {
        "trusted": true
      },
      "outputs": [
        {
          "execution_count": 3,
          "output_type": "execute_result",
          "data": {
            "text/plain": "   OrderID  CustomerID  Amount   OrderDate\n0      101         1.0  250.50  2024-12-20\n1      102         2.0  120.00  2024-12-21\n2      103         3.0  320.00  2024-12-22\n3      104         4.0     NaN  2024-12-23\n4      105         NaN  150.75  2024-12-24",
            "text/html": "<div>\n<style scoped>\n    .dataframe tbody tr th:only-of-type {\n        vertical-align: middle;\n    }\n\n    .dataframe tbody tr th {\n        vertical-align: top;\n    }\n\n    .dataframe thead th {\n        text-align: right;\n    }\n</style>\n<table border=\"1\" class=\"dataframe\">\n  <thead>\n    <tr style=\"text-align: right;\">\n      <th></th>\n      <th>OrderID</th>\n      <th>CustomerID</th>\n      <th>Amount</th>\n      <th>OrderDate</th>\n    </tr>\n  </thead>\n  <tbody>\n    <tr>\n      <th>0</th>\n      <td>101</td>\n      <td>1.0</td>\n      <td>250.50</td>\n      <td>2024-12-20</td>\n    </tr>\n    <tr>\n      <th>1</th>\n      <td>102</td>\n      <td>2.0</td>\n      <td>120.00</td>\n      <td>2024-12-21</td>\n    </tr>\n    <tr>\n      <th>2</th>\n      <td>103</td>\n      <td>3.0</td>\n      <td>320.00</td>\n      <td>2024-12-22</td>\n    </tr>\n    <tr>\n      <th>3</th>\n      <td>104</td>\n      <td>4.0</td>\n      <td>NaN</td>\n      <td>2024-12-23</td>\n    </tr>\n    <tr>\n      <th>4</th>\n      <td>105</td>\n      <td>NaN</td>\n      <td>150.75</td>\n      <td>2024-12-24</td>\n    </tr>\n  </tbody>\n</table>\n</div>"
          },
          "metadata": {}
        }
      ],
      "execution_count": 3
    },
    {
      "cell_type": "code",
      "source": "#Filling missing values\ndf[\"CustomerID\"] = df[\"CustomerID\"].bfill()\ndf",
      "metadata": {
        "trusted": true
      },
      "outputs": [
        {
          "execution_count": 4,
          "output_type": "execute_result",
          "data": {
            "text/plain": "   OrderID  CustomerID  Amount   OrderDate\n0      101         1.0  250.50  2024-12-20\n1      102         2.0  120.00  2024-12-21\n2      103         3.0  320.00  2024-12-22\n3      104         4.0     NaN  2024-12-23\n4      105         NaN  150.75  2024-12-24",
            "text/html": "<div>\n<style scoped>\n    .dataframe tbody tr th:only-of-type {\n        vertical-align: middle;\n    }\n\n    .dataframe tbody tr th {\n        vertical-align: top;\n    }\n\n    .dataframe thead th {\n        text-align: right;\n    }\n</style>\n<table border=\"1\" class=\"dataframe\">\n  <thead>\n    <tr style=\"text-align: right;\">\n      <th></th>\n      <th>OrderID</th>\n      <th>CustomerID</th>\n      <th>Amount</th>\n      <th>OrderDate</th>\n    </tr>\n  </thead>\n  <tbody>\n    <tr>\n      <th>0</th>\n      <td>101</td>\n      <td>1.0</td>\n      <td>250.50</td>\n      <td>2024-12-20</td>\n    </tr>\n    <tr>\n      <th>1</th>\n      <td>102</td>\n      <td>2.0</td>\n      <td>120.00</td>\n      <td>2024-12-21</td>\n    </tr>\n    <tr>\n      <th>2</th>\n      <td>103</td>\n      <td>3.0</td>\n      <td>320.00</td>\n      <td>2024-12-22</td>\n    </tr>\n    <tr>\n      <th>3</th>\n      <td>104</td>\n      <td>4.0</td>\n      <td>NaN</td>\n      <td>2024-12-23</td>\n    </tr>\n    <tr>\n      <th>4</th>\n      <td>105</td>\n      <td>NaN</td>\n      <td>150.75</td>\n      <td>2024-12-24</td>\n    </tr>\n  </tbody>\n</table>\n</div>"
          },
          "metadata": {}
        }
      ],
      "execution_count": 4
    },
    {
      "cell_type": "code",
      "source": "new_df=df.interpolate()\nnew_df",
      "metadata": {
        "trusted": true
      },
      "outputs": [
        {
          "name": "stderr",
          "text": "<ipython-input-5-dfbaf556cf83>:1: FutureWarning: DataFrame.interpolate with object dtype is deprecated and will raise in a future version. Call obj.infer_objects(copy=False) before interpolating instead.\n  new_df=df.interpolate()\n",
          "output_type": "stream"
        },
        {
          "execution_count": 5,
          "output_type": "execute_result",
          "data": {
            "text/plain": "   OrderID  CustomerID   Amount   OrderDate\n0      101         1.0  250.500  2024-12-20\n1      102         2.0  120.000  2024-12-21\n2      103         3.0  320.000  2024-12-22\n3      104         4.0  235.375  2024-12-23\n4      105         4.0  150.750  2024-12-24",
            "text/html": "<div>\n<style scoped>\n    .dataframe tbody tr th:only-of-type {\n        vertical-align: middle;\n    }\n\n    .dataframe tbody tr th {\n        vertical-align: top;\n    }\n\n    .dataframe thead th {\n        text-align: right;\n    }\n</style>\n<table border=\"1\" class=\"dataframe\">\n  <thead>\n    <tr style=\"text-align: right;\">\n      <th></th>\n      <th>OrderID</th>\n      <th>CustomerID</th>\n      <th>Amount</th>\n      <th>OrderDate</th>\n    </tr>\n  </thead>\n  <tbody>\n    <tr>\n      <th>0</th>\n      <td>101</td>\n      <td>1.0</td>\n      <td>250.500</td>\n      <td>2024-12-20</td>\n    </tr>\n    <tr>\n      <th>1</th>\n      <td>102</td>\n      <td>2.0</td>\n      <td>120.000</td>\n      <td>2024-12-21</td>\n    </tr>\n    <tr>\n      <th>2</th>\n      <td>103</td>\n      <td>3.0</td>\n      <td>320.000</td>\n      <td>2024-12-22</td>\n    </tr>\n    <tr>\n      <th>3</th>\n      <td>104</td>\n      <td>4.0</td>\n      <td>235.375</td>\n      <td>2024-12-23</td>\n    </tr>\n    <tr>\n      <th>4</th>\n      <td>105</td>\n      <td>4.0</td>\n      <td>150.750</td>\n      <td>2024-12-24</td>\n    </tr>\n  </tbody>\n</table>\n</div>"
          },
          "metadata": {}
        }
      ],
      "execution_count": 5
    },
    {
      "cell_type": "code",
      "source": "df.describe()",
      "metadata": {
        "trusted": true
      },
      "outputs": [
        {
          "execution_count": 6,
          "output_type": "execute_result",
          "data": {
            "text/plain": "          OrderID  CustomerID      Amount\ncount    5.000000    4.000000    4.000000\nmean   103.000000    2.500000  210.312500\nstd      1.581139    1.290994   91.924646\nmin    101.000000    1.000000  120.000000\n25%    102.000000    1.750000  143.062500\n50%    103.000000    2.500000  200.625000\n75%    104.000000    3.250000  267.875000\nmax    105.000000    4.000000  320.000000",
            "text/html": "<div>\n<style scoped>\n    .dataframe tbody tr th:only-of-type {\n        vertical-align: middle;\n    }\n\n    .dataframe tbody tr th {\n        vertical-align: top;\n    }\n\n    .dataframe thead th {\n        text-align: right;\n    }\n</style>\n<table border=\"1\" class=\"dataframe\">\n  <thead>\n    <tr style=\"text-align: right;\">\n      <th></th>\n      <th>OrderID</th>\n      <th>CustomerID</th>\n      <th>Amount</th>\n    </tr>\n  </thead>\n  <tbody>\n    <tr>\n      <th>count</th>\n      <td>5.000000</td>\n      <td>4.000000</td>\n      <td>4.000000</td>\n    </tr>\n    <tr>\n      <th>mean</th>\n      <td>103.000000</td>\n      <td>2.500000</td>\n      <td>210.312500</td>\n    </tr>\n    <tr>\n      <th>std</th>\n      <td>1.581139</td>\n      <td>1.290994</td>\n      <td>91.924646</td>\n    </tr>\n    <tr>\n      <th>min</th>\n      <td>101.000000</td>\n      <td>1.000000</td>\n      <td>120.000000</td>\n    </tr>\n    <tr>\n      <th>25%</th>\n      <td>102.000000</td>\n      <td>1.750000</td>\n      <td>143.062500</td>\n    </tr>\n    <tr>\n      <th>50%</th>\n      <td>103.000000</td>\n      <td>2.500000</td>\n      <td>200.625000</td>\n    </tr>\n    <tr>\n      <th>75%</th>\n      <td>104.000000</td>\n      <td>3.250000</td>\n      <td>267.875000</td>\n    </tr>\n    <tr>\n      <th>max</th>\n      <td>105.000000</td>\n      <td>4.000000</td>\n      <td>320.000000</td>\n    </tr>\n  </tbody>\n</table>\n</div>"
          },
          "metadata": {}
        }
      ],
      "execution_count": 6
    },
    {
      "cell_type": "code",
      "source": "df[\"CustomerID\"].value_counts() #Counts unique values in the column CustomerID",
      "metadata": {
        "trusted": true
      },
      "outputs": [
        {
          "execution_count": 7,
          "output_type": "execute_result",
          "data": {
            "text/plain": "CustomerID\n1.0    1\n2.0    1\n3.0    1\n4.0    1\nName: count, dtype: int64"
          },
          "metadata": {}
        }
      ],
      "execution_count": 7
    },
    {
      "cell_type": "code",
      "source": "orders_df =df[[\"OrderID\",\"Amount\"]]\norders_df",
      "metadata": {
        "trusted": true
      },
      "outputs": [
        {
          "execution_count": 8,
          "output_type": "execute_result",
          "data": {
            "text/plain": "   OrderID  Amount\n0      101  250.50\n1      102  120.00\n2      103  320.00\n3      104     NaN\n4      105  150.75",
            "text/html": "<div>\n<style scoped>\n    .dataframe tbody tr th:only-of-type {\n        vertical-align: middle;\n    }\n\n    .dataframe tbody tr th {\n        vertical-align: top;\n    }\n\n    .dataframe thead th {\n        text-align: right;\n    }\n</style>\n<table border=\"1\" class=\"dataframe\">\n  <thead>\n    <tr style=\"text-align: right;\">\n      <th></th>\n      <th>OrderID</th>\n      <th>Amount</th>\n    </tr>\n  </thead>\n  <tbody>\n    <tr>\n      <th>0</th>\n      <td>101</td>\n      <td>250.50</td>\n    </tr>\n    <tr>\n      <th>1</th>\n      <td>102</td>\n      <td>120.00</td>\n    </tr>\n    <tr>\n      <th>2</th>\n      <td>103</td>\n      <td>320.00</td>\n    </tr>\n    <tr>\n      <th>3</th>\n      <td>104</td>\n      <td>NaN</td>\n    </tr>\n    <tr>\n      <th>4</th>\n      <td>105</td>\n      <td>150.75</td>\n    </tr>\n  </tbody>\n</table>\n</div>"
          },
          "metadata": {}
        }
      ],
      "execution_count": 8
    },
    {
      "cell_type": "code",
      "source": "orders_df[\"Amount\"]=orders_df[\"Amount\"].apply(lambda x : x + 50)\norders_df",
      "metadata": {
        "trusted": true
      },
      "outputs": [
        {
          "name": "stderr",
          "text": "<ipython-input-9-05e37c86839f>:1: SettingWithCopyWarning: \nA value is trying to be set on a copy of a slice from a DataFrame.\nTry using .loc[row_indexer,col_indexer] = value instead\n\nSee the caveats in the documentation: https://pandas.pydata.org/pandas-docs/stable/user_guide/indexing.html#returning-a-view-versus-a-copy\n  orders_df[\"Amount\"]=orders_df[\"Amount\"].apply(lambda x : x + 50)\n",
          "output_type": "stream"
        },
        {
          "execution_count": 9,
          "output_type": "execute_result",
          "data": {
            "text/plain": "   OrderID  Amount\n0      101  300.50\n1      102  170.00\n2      103  370.00\n3      104     NaN\n4      105  200.75",
            "text/html": "<div>\n<style scoped>\n    .dataframe tbody tr th:only-of-type {\n        vertical-align: middle;\n    }\n\n    .dataframe tbody tr th {\n        vertical-align: top;\n    }\n\n    .dataframe thead th {\n        text-align: right;\n    }\n</style>\n<table border=\"1\" class=\"dataframe\">\n  <thead>\n    <tr style=\"text-align: right;\">\n      <th></th>\n      <th>OrderID</th>\n      <th>Amount</th>\n    </tr>\n  </thead>\n  <tbody>\n    <tr>\n      <th>0</th>\n      <td>101</td>\n      <td>300.50</td>\n    </tr>\n    <tr>\n      <th>1</th>\n      <td>102</td>\n      <td>170.00</td>\n    </tr>\n    <tr>\n      <th>2</th>\n      <td>103</td>\n      <td>370.00</td>\n    </tr>\n    <tr>\n      <th>3</th>\n      <td>104</td>\n      <td>NaN</td>\n    </tr>\n    <tr>\n      <th>4</th>\n      <td>105</td>\n      <td>200.75</td>\n    </tr>\n  </tbody>\n</table>\n</div>"
          },
          "metadata": {}
        }
      ],
      "execution_count": 9
    },
    {
      "cell_type": "code",
      "source": "arr = orders_df[\"Amount\"].to_numpy()\narr",
      "metadata": {
        "trusted": true
      },
      "outputs": [
        {
          "execution_count": 10,
          "output_type": "execute_result",
          "data": {
            "text/plain": "array([300.5 , 170.  , 370.  ,    nan, 200.75])"
          },
          "metadata": {}
        }
      ],
      "execution_count": 10
    },
    {
      "cell_type": "code",
      "source": "arr.dtype",
      "metadata": {
        "trusted": true
      },
      "outputs": [
        {
          "execution_count": 11,
          "output_type": "execute_result",
          "data": {
            "text/plain": "dtype('float64')"
          },
          "metadata": {}
        }
      ],
      "execution_count": 11
    },
    {
      "cell_type": "code",
      "source": "np.vstack(arr)\n# Creates a vertical stack",
      "metadata": {
        "trusted": true
      },
      "outputs": [
        {
          "execution_count": 12,
          "output_type": "execute_result",
          "data": {
            "text/plain": "array([[300.5 ],\n       [170.  ],\n       [370.  ],\n       [   nan],\n       [200.75]])"
          },
          "metadata": {}
        }
      ],
      "execution_count": 12
    },
    {
      "cell_type": "code",
      "source": "np.hstack(arr) #creates a horizontal stack",
      "metadata": {
        "trusted": true
      },
      "outputs": [
        {
          "execution_count": 13,
          "output_type": "execute_result",
          "data": {
            "text/plain": "array([300.5 , 170.  , 370.  ,    nan, 200.75])"
          },
          "metadata": {}
        }
      ],
      "execution_count": 13
    },
    {
      "cell_type": "code",
      "source": "np.sort(arr)",
      "metadata": {
        "trusted": true
      },
      "outputs": [
        {
          "execution_count": 14,
          "output_type": "execute_result",
          "data": {
            "text/plain": "array([170.  , 200.75, 300.5 , 370.  ,    nan])"
          },
          "metadata": {}
        }
      ],
      "execution_count": 14
    },
    {
      "cell_type": "code",
      "source": "np.unique(arr)",
      "metadata": {
        "trusted": true
      },
      "outputs": [
        {
          "execution_count": 15,
          "output_type": "execute_result",
          "data": {
            "text/plain": "array([170.  , 200.75, 300.5 , 370.  ,    nan])"
          },
          "metadata": {}
        }
      ],
      "execution_count": 15
    },
    {
      "cell_type": "code",
      "source": "arr[np.where(arr < 200)]",
      "metadata": {
        "trusted": true
      },
      "outputs": [
        {
          "execution_count": 16,
          "output_type": "execute_result",
          "data": {
            "text/plain": "array([170.])"
          },
          "metadata": {}
        }
      ],
      "execution_count": 16
    },
    {
      "cell_type": "code",
      "source": "#Max and min elements\narr[np.argmax(arr)]",
      "metadata": {
        "trusted": true
      },
      "outputs": [
        {
          "execution_count": 17,
          "output_type": "execute_result",
          "data": {
            "text/plain": "nan"
          },
          "metadata": {}
        }
      ],
      "execution_count": 17
    },
    {
      "cell_type": "code",
      "source": "arr[np.argmin(arr)]",
      "metadata": {
        "trusted": true
      },
      "outputs": [
        {
          "execution_count": 18,
          "output_type": "execute_result",
          "data": {
            "text/plain": "nan"
          },
          "metadata": {}
        }
      ],
      "execution_count": 18
    }
  ]
}